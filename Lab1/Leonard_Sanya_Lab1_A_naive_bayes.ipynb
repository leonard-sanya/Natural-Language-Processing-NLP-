{
 "cells": [
  {
   "cell_type": "markdown",
   "metadata": {
    "id": "AW1aaO3bvcbJ"
   },
   "source": [
    "# AMMI_2024_NLP - Week 1\n",
    "\n",
    "#Lab 1: Part 1"
   ]
  },
  {
   "cell_type": "markdown",
   "metadata": {
    "id": "5kQJhsHhn4hb"
   },
   "source": [
    "# (A) Naive Bayes model"
   ]
  },
  {
   "cell_type": "markdown",
   "metadata": {
    "id": "aRqye55SXDsa"
   },
   "source": [
    "In this lab, we will implement a language identifier (LID).\n",
    "\n",
    "Our first model will be based on Naive Bayes."
   ]
  },
  {
   "cell_type": "code",
   "execution_count": null,
   "metadata": {
    "id": "jlo96veyXDsb"
   },
   "outputs": [],
   "source": [
    "import io, sys, math, re\n",
    "from collections import defaultdict\n",
    "from typing import List, Tuple, Dict\n",
    "import numpy as np\n"
   ]
  },
  {
   "cell_type": "markdown",
   "metadata": {
    "id": "9UdfI-OmXDsc"
   },
   "source": [
    "The next function is used to load the data. Each line of the data consist of a label (corresponding to a language), followed by some text, written in that language. Here is an example of data:\n",
    "\n",
    "```__label__de Zur Namensdeutung gibt es mehrere Varianten.```\n"
   ]
  },
  {
   "cell_type": "code",
   "execution_count": null,
   "metadata": {
    "id": "CjHGIo9gXDsc"
   },
   "outputs": [],
   "source": [
    "def load_data(filename:str)->List[Tuple]:\n",
    "    fin = io.open(filename, 'r', encoding='utf-8')\n",
    "    data = []\n",
    "    for line in fin:\n",
    "        tokens = line.split()\n",
    "        data.append((tokens[0], tokens[1:]))\n",
    "    return data\n",
    "\n"
   ]
  },
  {
   "cell_type": "markdown",
   "metadata": {
    "id": "cY1bqzizXDsd"
   },
   "source": [
    "You can now try loading the first dataset `train1.txt` and look what examples look like."
   ]
  },
  {
   "cell_type": "code",
   "execution_count": null,
   "metadata": {
    "colab": {
     "base_uri": "https://localhost:8080/"
    },
    "id": "dtlY6M6tXDsd",
    "outputId": "222f88b5-1944-43cc-9c3a-3d5cb1a57141"
   },
   "outputs": [],
   "source": [
    "data = load_data(\"train1.txt\")\n",
    "print(data[0])\n",
    "\n"
   ]
  },
  {
   "cell_type": "markdown",
   "metadata": {
    "id": "BuXwK6eRXDsd"
   },
   "source": [
    "Next, we will start implementing the Naive Bayes method. This technique is based on word counts, and we thus need to start by implementing a function to count the words and labels of our training set.\n",
    "\n",
    "`n_examples` is the total number of examples\n",
    "\n",
    "`n_words_per_label` is the total number of words for a given label\n",
    "\n",
    "`label_counts` is the number of times a given label appears in the training data\n",
    "\n",
    "`word_counts` is the number of times a word appears with a given label"
   ]
  },
  {
   "cell_type": "code",
   "execution_count": null,
   "metadata": {
    "id": "_O6QtghUXDsd"
   },
   "outputs": [],
   "source": [
    "def count_words(data:str)->Dict:\n",
    "    n_examples = 0\n",
    "    n_words_per_label = defaultdict(lambda: 0)\n",
    "    label_counts = defaultdict(lambda: 0)\n",
    "    word_counts = defaultdict(lambda: defaultdict(lambda: 0.0))\n",
    "\n",
    "    for example in data:\n",
    "        label, sentence = example\n",
    "        n_examples += 1\n",
    "        \n",
    "        n_words_per_label[label] += len(sentence)\n",
    "            \n",
    "        if label not in label_counts.keys():\n",
    "            label_counts[label] = 1 \n",
    "        else:\n",
    "            label_counts[label] += 1\n",
    "            \n",
    "        if label not in word_counts.keys():\n",
    "            for word in sentence:\n",
    "                if word not in word_counts.keys():\n",
    "                    word_counts[label][word] = 1 \n",
    "                else:\n",
    "                    word_counts[label][word] += 1\n",
    "        else:\n",
    "            for word in sentence:\n",
    "                word_counts[label][word] += 1\n",
    "                \n",
    "    return {'label_counts': label_counts,\n",
    "            'word_counts': word_counts,\n",
    "            'n_examples': n_examples,\n",
    "            'n_words_per_label': n_words_per_label}\n",
    "\n"
   ]
  },
  {
   "cell_type": "markdown",
   "metadata": {
    "id": "u5BBqz2JXDse"
   },
   "source": [
    "Next, using the word and label counts from the previous function, we can implement the prediction function.\n",
    "\n",
    "Here, `mu` is a regularization parameter (Laplace smoothing), and `sentence` is the list of words corresponding to the test example."
   ]
  },
  {
   "cell_type": "code",
   "execution_count": null,
   "metadata": {},
   "outputs": [],
   "source": []
  },
  {
   "cell_type": "code",
   "execution_count": null,
   "metadata": {
    "id": "46_dbxuDXDse"
   },
   "outputs": [],
   "source": [
    "def predict(sentence:List, mu:float, label_counts:Dict, word_counts:Dict, n_examples:int, n_words_per_label:Dict)->str:\n",
    "    best_label = None\n",
    "    best_score = float('-inf')\n",
    "\n",
    "    for label in word_counts.keys():\n",
    "        score = 0.0\n",
    "        prior = label_counts[label] / sum(label_counts.values())\n",
    "        #P(Class | Word) = P(Class) * P(word | Class)\n",
    "        \n",
    "        for word in sentence:\n",
    "            word_count = word_counts.get(label,0).get(word,0)\n",
    "            \n",
    "            # Calculate the likelihood P(word | label) using Laplace smoothing\n",
    "            likelihood = (word_count + mu) / (n_words_per_label[label] + mu * len(word_counts.keys()))\n",
    "            \n",
    "            score += math.log(likelihood)\n",
    "        score += math.log(prior)\n",
    "        \n",
    "        if score > best_score:\n",
    "            best_score = score\n",
    "            best_label = label\n",
    "        \n",
    "    return best_label"
   ]
  },
  {
   "cell_type": "markdown",
   "metadata": {
    "id": "uGMlrhFmXDsf"
   },
   "source": [
    "The next function will be used to evaluate the Naive Bayes model on a validation set. It computes the accuracy for a particular regularization parameter `mu`."
   ]
  },
  {
   "cell_type": "code",
   "execution_count": null,
   "metadata": {
    "id": "QE0EVY6OXDsf"
   },
   "outputs": [],
   "source": [
    "def compute_accuracy(valid_data:str, mu:float, counts:Dict)->float:\n",
    "    accuracy = 0.0\n",
    "    for label, sentence in valid_data:\n",
    "        predicted_label = predict(sentence, mu, counts['label_counts'], counts['word_counts'], \n",
    "                                  counts['n_examples'], counts['n_words_per_label'])\n",
    "        if predicted_label == label:\n",
    "            accuracy += 1\n",
    "\n",
    "    accuracy = accuracy / len(valid_data)\n",
    "     \n",
    "    return accuracy \n",
    "\n"
   ]
  },
  {
   "cell_type": "code",
   "execution_count": null,
   "metadata": {
    "colab": {
     "base_uri": "https://localhost:8080/"
    },
    "id": "l0NY2-oSXDsf",
    "outputId": "6738ff04-224c-4a9d-b07a-3634cf8c0332"
   },
   "outputs": [],
   "source": [
    "print(\"\")\n",
    "print(\"** Naive Bayes **\")\n",
    "print(\"\")\n",
    "\n",
    "mu = 0.001\n",
    "train_data = load_data(\"train1.txt\")\n",
    "valid_data = load_data(\"valid1.txt\")\n",
    "counts = count_words(train_data)\n",
    "\n",
    "print(\"Validation accuracy: %.3f\" % compute_accuracy(valid_data, mu, counts))\n",
    "print(\"\")\n",
    "\n"
   ]
  },
  {
   "cell_type": "markdown",
   "metadata": {
    "id": "1pYhDzXRuMIw"
   },
   "source": [
    "# Now, it is your turn, try to do it with train2.txt and valid2.txt.\n"
   ]
  },
  {
   "cell_type": "code",
   "execution_count": null,
   "metadata": {
    "id": "XkC_y0GnXDsf"
   },
   "outputs": [],
   "source": [
    "#Write your code here.\n",
    "\n",
    "print(\"\")\n",
    "print(\"** Naive Bayes **\")\n",
    "print(\"\")\n",
    "\n",
    "mu = 0.001\n",
    "train_data = load_data(\"train2.txt\")\n",
    "valid_data = load_data(\"valid2.txt\")\n",
    "counts = count_words(train_data)\n",
    "\n",
    "print(\"Validation accuracy: %.3f\" % compute_accuracy(valid_data, mu, counts))\n",
    "print(\"\")"
   ]
  },
  {
   "cell_type": "code",
   "execution_count": null,
   "metadata": {
    "id": "wdb6zb9guY01"
   },
   "outputs": [],
   "source": []
  }
 ],
 "metadata": {
  "colab": {
   "provenance": []
  },
  "kernelspec": {
   "display_name": "Python 3 (ipykernel)",
   "language": "python",
   "name": "python3"
  },
  "language_info": {
   "codemirror_mode": {
    "name": "ipython",
    "version": 3
   },
   "file_extension": ".py",
   "mimetype": "text/x-python",
   "name": "python",
   "nbconvert_exporter": "python",
   "pygments_lexer": "ipython3",
   "version": "3.11.5"
  }
 },
 "nbformat": 4,
 "nbformat_minor": 4
}
